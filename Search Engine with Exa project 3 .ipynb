{
 "cells": [
  {
   "cell_type": "code",
   "execution_count": 3,
   "id": "08de88b0-f423-4543-9a15-4228d6d8e83e",
   "metadata": {},
   "outputs": [
    {
     "name": "stdin",
     "output_type": "stream",
     "text": [
      "Search here:  sweets\n"
     ]
    },
    {
     "name": "stdout",
     "output_type": "stream",
     "text": [
      "Title: Sweets\n",
      "URL: https://www.tiktok.com/channel/sweets\n",
      "\n",
      "Title: sweets\n",
      "URL: https://www.tiktok.com/tag/sweets\n",
      "\n",
      "Title: Sweets 🍬 (@sweettartesss)\n",
      "URL: https://www.tiktok.com/@sweettartesss\n",
      "\n",
      "Title: Celebrating Sweets (@celebratingsweets)\n",
      "URL: https://www.tiktok.com/@celebratingsweets\n",
      "\n",
      "Title: Hello Sweets Candy & Pop Shop (@hellosweetscandy)\n",
      "URL: https://www.tiktok.com/@hellosweetscandy\n",
      "\n",
      "Title: plume sweets (@plumesweets)\n",
      "URL: https://www.tiktok.com/@plumesweets\n",
      "\n",
      "Title: Sweets Certified (@sweetscertified)\n",
      "URL: https://www.tiktok.com/@sweetscertified\n",
      "\n",
      "Title: Main Street Sweets Frisco (@mainstreetsweets_frisco)\n",
      "URL: https://www.tiktok.com/@mainstreetsweets_frisco\n",
      "\n"
     ]
    }
   ],
   "source": [
    "from exa_py import Exa\n",
    "\n",
    "exa = Exa('f1809bce-f577-4baa-b5ba-c1f9da6952b4')\n",
    "\n",
    "query = input('Search here: ')\n",
    "\n",
    "response = exa.search(\n",
    "  query,\n",
    "  num_results=5,\n",
    "  type='keyword',\n",
    "  include_domains=['https://www.tiktok.com'],\n",
    ")\n",
    "\n",
    "for result in response.results:\n",
    "  print(f'Title: {result.title}')\n",
    "  print(f'URL: {result.url}')\n",
    "  print()"
   ]
  },
  {
   "cell_type": "code",
   "execution_count": 5,
   "id": "b06960d6-1300-49bc-922e-cc43c3feb2df",
   "metadata": {},
   "outputs": [
    {
     "name": "stdin",
     "output_type": "stream",
     "text": [
      "Search here:  dance\n"
     ]
    },
    {
     "name": "stdout",
     "output_type": "stream",
     "text": [
      "Title: Can you teach me your favorite dance move? 🇧🇪 Belgium ...\n",
      "URL: https://www.instagram.com/ed.people/\n",
      "\n",
      "Title: Dance + Music Features (@danceon)\n",
      "URL: https://www.instagram.com/danceon/\n",
      "\n",
      "Title: Stevie Dance (@stevie_dance)\n",
      "URL: https://www.instagram.com/stevie_dance/\n",
      "\n",
      "Title: DANCE FROM HOME (@dancefromhome_)\n",
      "URL: https://www.instagram.com/dancefromhome_/\n",
      "\n",
      "Title: Bryan Stinson (@the_official_bs) - Go Dance Moms!\n",
      "URL: https://www.instagram.com/the_official_bs/\n",
      "\n",
      "Title: DANCE DIVINE (@dancedivine_)\n",
      "URL: https://www.instagram.com/dancedivine_/\n",
      "\n",
      "Title: Red Bull Dance (@redbulldance)\n",
      "URL: https://www.instagram.com/redbulldance/\n",
      "\n",
      "Title: Alex M🇺🇸 🏆🥇 (@alex.dance.usa)\n",
      "URL: https://www.instagram.com/alex.dance.usa/\n",
      "\n",
      "Title: Dance Doyle (@dance_doyle) - Instagram\n",
      "URL: https://www.instagram.com/dance_doyle/\n",
      "\n"
     ]
    }
   ],
   "source": [
    "from exa_py import Exa\n",
    "\n",
    "exa = Exa('f1809bce-f577-4baa-b5ba-c1f9da6952b4')\n",
    "\n",
    "query = input('Search here: ')\n",
    "\n",
    "response = exa.search(\n",
    "  query,\n",
    "  num_results=5,\n",
    "  type='keyword',\n",
    "  include_domains=['https://www.instagram.com'],\n",
    ")\n",
    "\n",
    "for result in response.results:\n",
    "  print(f'Title: {result.title}')\n",
    "  print(f'URL: {result.url}')\n",
    "  print()"
   ]
  },
  {
   "cell_type": "code",
   "execution_count": null,
   "id": "a80276d8-1e35-488c-971d-8018909f8a9b",
   "metadata": {},
   "outputs": [],
   "source": [
    "from exa_py import Exa\n",
    "\n",
    "exa = Exa('f1809bce-f577-4baa-b5ba-c1f9da6952b4')\n",
    "\n",
    "query = input('Search here: ')\n",
    "\n",
    "response = exa.search(\n",
    "  query,\n",
    "  num_results=5,\n",
    "  type='keyword',\n",
    "  include_domains=['https://www.snapchat.com'],\n",
    ")\n",
    "\n",
    "for result in response.results:\n",
    "  print(f'Title: {result.title}')\n",
    "  print(f'URL: {result.url}')\n",
    "  print()"
   ]
  }
 ],
 "metadata": {
  "kernelspec": {
   "display_name": "Python 3 (ipykernel)",
   "language": "python",
   "name": "python3"
  },
  "language_info": {
   "codemirror_mode": {
    "name": "ipython",
    "version": 3
   },
   "file_extension": ".py",
   "mimetype": "text/x-python",
   "name": "python",
   "nbconvert_exporter": "python",
   "pygments_lexer": "ipython3",
   "version": "3.11.7"
  }
 },
 "nbformat": 4,
 "nbformat_minor": 5
}
